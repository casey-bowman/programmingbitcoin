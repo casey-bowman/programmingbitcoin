{
 "cells": [
  {
   "cell_type": "code",
   "execution_count": null,
   "metadata": {},
   "outputs": [],
   "source": [
    "############## PLEASE RUN THIS CELL FIRST! ###################\n",
    "\n",
    "# import everything and define a test runner function\n",
    "from importlib import reload\n",
    "from helper import run\n",
    "\n",
    "import block\n",
    "import ecc\n",
    "import helper\n",
    "import network\n",
    "import script\n",
    "import tx"
   ]
  },
  {
   "cell_type": "markdown",
   "metadata": {},
   "source": [
    "### Exercise 1\n",
    "\n",
    "#### Determine what this network message is:\n",
    "\n",
    "```\n",
    "f9beb4d976657261636b000000000000000000005df6e0e2\n",
    "```"
   ]
  },
  {
   "cell_type": "code",
   "execution_count": null,
   "metadata": {},
   "outputs": [],
   "source": [
    "# Exercise 1\n",
    "from network import NetworkEnvelope\n",
    "from io import BytesIO\n",
    "\n",
    "message_hex = 'f9beb4d976657261636b000000000000000000005df6e0e2'"
   ]
  },
  {
   "cell_type": "markdown",
   "metadata": {},
   "source": [
    "### Exercise 2\n",
    "\n",
    "#### Make [these tests](/edit/code-ch10/network.py) pass.\n",
    "```\n",
    "network.py:NetworkTest:test_parse\n",
    "network.py:NetworkTest:test_serialize\n",
    "```"
   ]
  },
  {
   "cell_type": "code",
   "execution_count": null,
   "metadata": {},
   "outputs": [],
   "source": [
    "# Exercise 2\n",
    "\n",
    "reload(network)\n",
    "run(network.NetworkEnvelopeTest('test_parse'))\n",
    "run(network.NetworkEnvelopeTest('test_serialize'))"
   ]
  },
  {
   "cell_type": "markdown",
   "metadata": {},
   "source": [
    "### Exercise 3\n",
    "\n",
    "#### Make [this test](/edit/code-ch10/network.py) pass.\n",
    "```\n",
    "network.py:VersionMessageTest:test_serialize\n",
    "```"
   ]
  },
  {
   "cell_type": "code",
   "execution_count": null,
   "metadata": {},
   "outputs": [],
   "source": [
    "# Exercise 3\n",
    "\n",
    "reload(network)\n",
    "run(network.VersionMessageTest('test_serialize'))"
   ]
  },
  {
   "cell_type": "markdown",
   "metadata": {},
   "source": [
    "### Exercise 4\n",
    "\n",
    "#### Make [this test](/edit/code-ch10/network.py) pass.\n",
    "```\n",
    "network.py:SimpleNodeTest:test_handshake\n",
    "```"
   ]
  },
  {
   "cell_type": "code",
   "execution_count": null,
   "metadata": {},
   "outputs": [],
   "source": [
    "# Exercise 4\n",
    "\n",
    "reload(network)\n",
    "run(network.SimpleNodeTest('test_handshake'))"
   ]
  },
  {
   "cell_type": "markdown",
   "metadata": {},
   "source": [
    "### Exercise 5\n",
    "\n",
    "#### Make [this test](/edit/code-ch10/network.py) pass.\n",
    "```\n",
    "network.py:GetHeadersMessageTest:test_serialize\n",
    "```"
   ]
  },
  {
   "cell_type": "code",
   "execution_count": null,
   "metadata": {},
   "outputs": [],
   "source": [
    "# Exercise 5\n",
    "\n",
    "reload(network)\n",
    "run(network.GetHeadersMessageTest('test_serialize'))"
   ]
  },
  {
   "cell_type": "code",
   "execution_count": null,
   "metadata": {},
   "outputs": [],
   "source": [
    "from network import SimpleNode, GetHeadersMessage, HeadersMessage\n",
    "from block import GENESIS_BLOCK_HASH\n",
    "from helper import calculate_new_bits\n",
    "\n",
    "node = SimpleNode('btc.programmingblockchain.com', testnet=False)\n",
    "node.handshake()\n",
    "last_block_hash = GENESIS_BLOCK_HASH\n",
    "first_epoch_block = None\n",
    "expected_bits = None\n",
    "count = 1\n",
    "while True:\n",
    "    getheaders = GetHeadersMessage(start_block=last_block_hash)\n",
    "    node.send(getheaders.command, getheaders.serialize())\n",
    "    headers_envelope = node.wait_for_commands([b'headers'])\n",
    "    headers_message = HeadersMessage.parse(headers_envelope.stream())\n",
    "    for block in headers_message.blocks:\n",
    "        if not block.check_pow():\n",
    "            raise RuntimeError('bad proof of work at block {}'.format(count))\n",
    "        if last_block_hash != GENESIS_BLOCK_HASH and block.prev_block != last_block_hash:  # <2>\n",
    "            raise RuntimeError('discontinuous block at {}'.format(count))\n",
    "        if expected_bits and block.bits != expected_bits:\n",
    "            raise RuntimeError('bad bits at block {} {} vs {}'.format(count, block.bits.hex(), expected_bits.hex()))\n",
    "        if first_epoch_block and count % 2016 == 2015:\n",
    "            expected_bits = calculate_new_bits(\n",
    "                expected_bits, block.timestamp - first_epoch_block.timestamp)\n",
    "            print(expected_bits.hex())\n",
    "        elif first_epoch_block is None:\n",
    "            expected_bits = block.bits\n",
    "        if count % 2016 == 0 or not first_epoch_block:\n",
    "            first_epoch_block = block\n",
    "        count += 1\n",
    "        last_block_hash = block.hash()\n",
    "    if len(headers_message.blocks) < 2000:\n",
    "        break"
   ]
  }
 ],
 "metadata": {
  "kernelspec": {
   "display_name": "Python 3",
   "language": "python",
   "name": "python3"
  },
  "language_info": {
   "codemirror_mode": {
    "name": "ipython",
    "version": 3
   },
   "file_extension": ".py",
   "mimetype": "text/x-python",
   "name": "python",
   "nbconvert_exporter": "python",
   "pygments_lexer": "ipython3",
   "version": "3.6.5"
  }
 },
 "nbformat": 4,
 "nbformat_minor": 2
}
