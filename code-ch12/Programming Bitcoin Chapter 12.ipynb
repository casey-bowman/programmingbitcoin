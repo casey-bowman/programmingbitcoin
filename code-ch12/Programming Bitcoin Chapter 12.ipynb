{
 "cells": [
  {
   "cell_type": "code",
   "execution_count": null,
   "metadata": {},
   "outputs": [],
   "source": [
    "############## PLEASE RUN THIS CELL FIRST! ###################\n",
    "\n",
    "# import everything and define a test runner function\n",
    "from importlib import reload\n",
    "from helper import run\n",
    "\n",
    "import bloomfilter\n",
    "import block\n",
    "import ecc\n",
    "import helper\n",
    "import merkleblock\n",
    "import network\n",
    "import script\n",
    "import tx"
   ]
  },
  {
   "cell_type": "code",
   "execution_count": null,
   "metadata": {},
   "outputs": [],
   "source": [
    "from helper import hash256\n",
    "\n",
    "bit_field_size = 10\n",
    "bit_field = [0] * bit_field_size\n",
    "\n",
    "h = hash256(b'hello world')\n",
    "bit = int.from_bytes(h, 'big') % bit_field_size\n",
    "bit_field[bit] = 1\n",
    "print(bit_field)"
   ]
  },
  {
   "cell_type": "code",
   "execution_count": null,
   "metadata": {},
   "outputs": [],
   "source": [
    "from helper import hash256\n",
    "\n",
    "bit_field_size = 10\n",
    "bit_field = [0] * bit_field_size\n",
    "\n",
    "for item in (b'hello world', b'goodbye'):\n",
    "    h = hash256(item)\n",
    "    bit = int.from_bytes(h, 'big') % bit_field_size\n",
    "    bit_field[bit] = 1\n",
    "print(bit_field)"
   ]
  },
  {
   "cell_type": "markdown",
   "metadata": {},
   "source": [
    "### Exercise 1\n",
    "\n",
    "#### Calculate the Bloom Filter for 'hello world' and 'goodbye' using the `hash160` hash function over a bit field of 10."
   ]
  },
  {
   "cell_type": "code",
   "execution_count": null,
   "metadata": {},
   "outputs": [],
   "source": [
    "# Exercise 1\n",
    "\n",
    "from helper import hash160\n",
    "\n",
    "bit_field_size = 10\n",
    "bit_field = [0] * bit_field_size"
   ]
  },
  {
   "cell_type": "code",
   "execution_count": null,
   "metadata": {},
   "outputs": [],
   "source": [
    "from helper import hash256, hash160\n",
    "\n",
    "bit_field_size = 10\n",
    "bit_field = [0] * bit_field_size\n",
    "\n",
    "for item in (b'hello world', b'goodbye'):\n",
    "    for hash_function in (hash256, hash160):\n",
    "        h = hash_function(item)\n",
    "        bit = int.from_bytes(h, 'big') % bit_field_size\n",
    "        bit_field[bit] = 1\n",
    "print(bit_field)"
   ]
  },
  {
   "cell_type": "code",
   "execution_count": null,
   "metadata": {},
   "outputs": [],
   "source": [
    "from helper import murmur3\n",
    "from bloomfilter import BIP37_CONSTANT\n",
    "\n",
    "field_size = 2\n",
    "num_functions = 2\n",
    "tweak = 42\n",
    "\n",
    "bit_field_size = field_size * 8\n",
    "bit_field = [0] * bit_field_size\n",
    "\n",
    "for phrase in (b'hello world', b'goodbye'):\n",
    "    for i in range(num_functions):\n",
    "        seed = i * BIP37_CONSTANT + tweak\n",
    "        h = murmur3(phrase, seed=seed)\n",
    "        bit = h % bit_field_size\n",
    "        bit_field[bit] = 1\n",
    "print(bit_field)"
   ]
  },
  {
   "cell_type": "markdown",
   "metadata": {},
   "source": [
    "### Exercise 2\n",
    "\n",
    "#### Given a Bloom Filter with these parameters: size=10, function count=5, tweak=99, which bits are set after adding these items? \n",
    "\n",
    " * `b'Hello World'`\n",
    " * `b'Goodbye!'`\n"
   ]
  },
  {
   "cell_type": "code",
   "execution_count": null,
   "metadata": {},
   "outputs": [],
   "source": [
    "# Exercise 2\n",
    "\n",
    "from bloomfilter import BloomFilter, BIP37_CONSTANT\n",
    "from helper import bit_field_to_bytes, murmur3\n",
    "\n",
    "field_size = 10\n",
    "function_count = 5\n",
    "tweak = 99\n",
    "items = (b'Hello World',  b'Goodbye!')"
   ]
  },
  {
   "cell_type": "markdown",
   "metadata": {},
   "source": [
    "### Exercise 3\n",
    "\n",
    "#### Make [this test](/edit/code-ch12/bloomfilter.py) pass."
   ]
  },
  {
   "cell_type": "code",
   "execution_count": null,
   "metadata": {},
   "outputs": [],
   "source": [
    "# Exercise 3\n",
    "\n",
    "reload(bloomfilter)\n",
    "run(bloomfilter.BloomFilterTest('test_add'))"
   ]
  },
  {
   "cell_type": "markdown",
   "metadata": {},
   "source": [
    "### Exercise 4\n",
    "\n",
    "#### Make [this test](/edit/code-ch12/bloomfilter.py) pass."
   ]
  },
  {
   "cell_type": "code",
   "execution_count": null,
   "metadata": {},
   "outputs": [],
   "source": [
    "# Exercise 4\n",
    "\n",
    "reload(bloomfilter)\n",
    "run(bloomfilter.BloomFilterTest('test_filterload'))"
   ]
  },
  {
   "cell_type": "markdown",
   "metadata": {},
   "source": [
    "### Exercise 5\n",
    "\n",
    "#### Make [this test](/edit/code-ch12/network.py) pass."
   ]
  },
  {
   "cell_type": "code",
   "execution_count": null,
   "metadata": {},
   "outputs": [],
   "source": [
    "# Exercise 5\n",
    "\n",
    "reload(network)\n",
    "run(network.GetDataMessageTest('test_serialize'))"
   ]
  },
  {
   "cell_type": "code",
   "execution_count": null,
   "metadata": {},
   "outputs": [],
   "source": [
    "from bloomfilter import BloomFilter\n",
    "from helper import decode_base58\n",
    "from merkleblock import MerkleBlock\n",
    "from network import (\n",
    "    FILTERED_BLOCK_DATA_TYPE,\n",
    "    GetHeadersMessage, GetDataMessage, HeadersMessage,\n",
    "    SimpleNode, \n",
    ")\n",
    "from tx import Tx\n",
    "\n",
    "last_block_hex = '00000000000538d5c2246336644f9a4956551afb44ba47278759ec55ea912e19'\n",
    "address = 'mwJn1YPMq7y5F8J3LkC5Hxg9PHyZ5K4cFv'\n",
    "h160 = decode_base58(address)\n",
    "node = SimpleNode('tbtc.programmingblockchain.com', testnet=True, logging=True)\n",
    "bf = BloomFilter(30, 5, 90210)\n",
    "bf.add(h160)\n",
    "node.handshake()\n",
    "node.send(b'filterload', bf.filterload())\n",
    "start_block = bytes.fromhex(last_block_hex)\n",
    "getheaders_message = GetHeadersMessage(start_block=start_block)\n",
    "node.send(b'getheaders', getheaders_message.serialize())\n",
    "headers_envelope = node.wait_for_commands({b'headers'})\n",
    "stream = headers_envelope.stream()\n",
    "headers = HeadersMessage.parse(stream)\n",
    "get_data_message = GetDataMessage()\n",
    "for b in headers.blocks:\n",
    "    if not b.check_pow():\n",
    "        raise RuntimeError('proof of work is invalid')\n",
    "    get_data_message.add_data(FILTERED_BLOCK_DATA_TYPE, b.hash())\n",
    "node.send(b'getdata', get_data_message.serialize())\n",
    "found = False\n",
    "while not found:\n",
    "    envelope = node.wait_for_commands({b'merkleblock', b'tx'})\n",
    "    stream = envelope.stream()\n",
    "    if envelope.command == b'merkleblock':\n",
    "        mb = MerkleBlock.parse(stream)\n",
    "        if not mb.is_valid():\n",
    "            raise RuntimeError('invalid merkle proof')\n",
    "    else:\n",
    "        prev_tx_obj = Tx.parse(stream, testnet=True)\n",
    "        for i, tx_out in enumerate(prev_tx_obj.tx_outs):\n",
    "            if tx_out.script_pubkey.address(testnet=True) == address:\n",
    "                print('found: {}:{}'.format(prev_tx_obj.hash().hex(), i))\n",
    "                found = True\n",
    "                break"
   ]
  },
  {
   "cell_type": "markdown",
   "metadata": {},
   "source": [
    "### Exercise 6\n",
    "\n",
    "#### Get the current testnet block id, send yourself some testnet coins, find the UTXO corresponding to the testnet coin *without using a block explorer*, create a transaction using that UTXO as an input and broadcast that message on the network."
   ]
  },
  {
   "cell_type": "code",
   "execution_count": null,
   "metadata": {},
   "outputs": [],
   "source": [
    "# Exercise 6\n",
    "\n",
    "import time\n",
    "\n",
    "from block import Block\n",
    "from bloomfilter import BloomFilter\n",
    "from ecc import PrivateKey\n",
    "from helper import hash256, little_endian_to_int, encode_varint, read_varint, decode_base58, SIGHASH_ALL\n",
    "from merkleblock import MerkleBlock\n",
    "from network import (\n",
    "    GetDataMessage,\n",
    "    GetHeadersMessage,\n",
    "    HeadersMessage,\n",
    "    NetworkEnvelope,\n",
    "    SimpleNode,\n",
    "    TX_DATA_TYPE,\n",
    "    FILTERED_BLOCK_DATA_TYPE,\n",
    ")\n",
    "from script import p2pkh_script, Script\n",
    "from tx import Tx, TxIn, TxOut"
   ]
  }
 ],
 "metadata": {
  "kernelspec": {
   "display_name": "Python 3",
   "language": "python",
   "name": "python3"
  },
  "language_info": {
   "codemirror_mode": {
    "name": "ipython",
    "version": 3
   },
   "file_extension": ".py",
   "mimetype": "text/x-python",
   "name": "python",
   "nbconvert_exporter": "python",
   "pygments_lexer": "ipython3",
   "version": "3.6.5"
  }
 },
 "nbformat": 4,
 "nbformat_minor": 2
}
